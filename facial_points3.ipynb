{
 "cells": [
  {
   "cell_type": "code",
   "execution_count": null,
   "metadata": {
    "collapsed": false
   },
   "outputs": [],
   "source": [
    "%matplotlib inline\n",
    "import matplotlib\n",
    "import numpy as np\n",
    "import pandas as pd\n",
    "from numpy import genfromtxt\n",
    "import scipy.misc\n",
    "import matplotlib.pyplot as plt\n",
    "import sklearn.datasets\n",
    "import theano\n",
    "import theano.tensor as T\n",
    "from keras.models import Sequential, load_model\n",
    "from keras.layers import Dense, Dropout, Activation, Flatten, Convolution2D, MaxPooling2D\n",
    "from keras.layers import advanced_activations\n",
    "from keras.layers.normalization import BatchNormalization\n",
    "from keras.optimizers import *\n",
    "from keras.layers.advanced_activations import *\n",
    "from keras.regularizers import l2\n",
    "import csv\n",
    "import pickle\n",
    "from pandas.io.parsers import read_csv\n",
    "from sklearn.utils import shuffle\n",
    "from sklearn.externals import joblib\n"
   ]
  },
  {
   "cell_type": "code",
   "execution_count": null,
   "metadata": {
    "collapsed": true
   },
   "outputs": [],
   "source": [
    "IMAGE_WIDTH = 96\n",
    "IMAGE_HIGHT = 96\n",
    "CHANNELS_NUM = 1\n",
    "DATASET_SIZE = 7049\n",
    "CLASSES_NUM = 6*2\n",
    "EPOCHS_NUM = 500\n",
    "BATCH_SIZE = 16\n",
    "LEARNING_RATE = 0.005\n",
    "FTRAIN = 'training.csv'\n",
    "FTEST = 'test.csv'\n",
    "FLOOKUP = 'CSVs/facial_points_IdLookupTable.csv'"
   ]
  },
  {
   "cell_type": "code",
   "execution_count": 2,
   "metadata": {
    "collapsed": true
   },
   "outputs": [],
   "source": [
    "def plot_sample(x, y, axis):\n",
    "    img = x.reshape(96, 96)\n",
    "    axis.imshow(img, cmap='gray')\n",
    "    axis.scatter(y[0::2] * 48 + 48, y[1::2] * 48 + 48, marker='x', s=10)\n",
    "\n",
    "       \n",
    "def make_submission(test_labels):\n",
    "    test_labels *= 48.0\n",
    "    test_labels += 48.0\n",
    "    test_labels = test_labels.clip(0, 96)\n",
    "\n",
    "    lookup_table = pd.read_csv(FLOOKUP)\n",
    "    values = []\n",
    "\n",
    "    cols = joblib.load('cols.pkl')\n",
    "\n",
    "    for index, row in lookup_table.iterrows():\n",
    "        values.append((\n",
    "            row['RowId'],\n",
    "            test_labels[row.ImageId - 1][np.where(cols == row.FeatureName)[0][0]],\n",
    "            ))\n",
    "    submission = pd.DataFrame(values, columns=('RowId', 'Location'))\n",
    "    submission.to_csv('CSVs/submission.csv', index=False)\n",
    "    \n",
    "def load(test=False, cols=None):\n",
    "    fname = FTEST if test else FTRAIN\n",
    "    df = read_csv(fname)  \n",
    "    cols_l = df.columns[:-1]\n",
    "    df['Image'] = df['Image'].apply(lambda im: np.fromstring(im, sep=' '))\n",
    "    if cols:  \n",
    "        df = df[list(cols) + ['Image']]\n",
    "\n",
    "    print(df.count())  \n",
    "    df = df.dropna()\n",
    "    X = np.vstack(df['Image'].values)  \n",
    "    X = X.astype(np.float32)\n",
    "\n",
    "    if not test:  # only FTRAIN has any target columns\n",
    "        y = df[df.columns[:-1]].values\n",
    "        y = (y - 48) / 48  # scale target coordinates to [-1, 1]\n",
    "        X, y = shuffle(X, y, random_state=42)  # shuffle train data\n",
    "        y = y.astype(np.float32)\n",
    "        joblib.dump(cols_l, 'cols.pkl', compress=3)\n",
    "    else:\n",
    "        y = None\n",
    "    return X, y"
   ]
  },
  {
   "cell_type": "code",
   "execution_count": null,
   "metadata": {
    "collapsed": false
   },
   "outputs": [],
   "source": [
    "cols=['left_eye_center_x',\n",
    "      'left_eye_center_y',\n",
    "      'right_eye_center_x',\n",
    "      'right_eye_center_y',\n",
    "      'nose_tip_x',\n",
    "      'nose_tip_y',\n",
    "      'mouth_center_bottom_lip_x',\n",
    "      'mouth_center_bottom_lip_y']\n",
    "X, y = load(cols= cols)\n",
    "print(\"X.shape == {}; X.min == {:.3f}; X.max == {:.3f}\".format(X.shape, X.min(), X.max()))\n",
    "print(\"y.shape == {}; y.min == {:.3f}; y.max == {:.3f}\".format(y.shape, y.min(), y.max()))"
   ]
  },
  {
   "cell_type": "code",
   "execution_count": null,
   "metadata": {
    "collapsed": false
   },
   "outputs": [],
   "source": [
    "def build_model():\n",
    "    model = Sequential()\n",
    "    \n",
    "    model.add(Convolution2D(16, 3, 3, init = 'he_normal', W_regularizer = l2(1e-4), border_mode='same',\n",
    "                            input_shape=(CHANNELS_NUM,IMAGE_HIGHT, IMAGE_WIDTH)))\n",
    "    model.add(BatchNormalization())\n",
    "    model.add(LeakyReLU(alpha=0.15))\n",
    "    model.add(Dropout(0.3))\n",
    "    \n",
    "    model.add(Convolution2D(32, 3, 3, init = 'he_normal', W_regularizer = l2(1e-4), border_mode='same'))\n",
    "    model.add(BatchNormalization())\n",
    "    model.add(LeakyReLU(alpha=0.15))\n",
    "    model.add(Dropout(0.3))\n",
    "    \n",
    "    model.add(Convolution2D(16, 3, 3, init = 'he_normal', W_regularizer = l2(1e-4), border_mode='same'))\n",
    "    model.add(BatchNormalization())\n",
    "    model.add(LeakyReLU(alpha=0.15))\n",
    "    model.add(Dropout(0.3))\n",
    "    \n",
    "    model.add(Convolution2D(8, 1, 1, init = 'he_normal', W_regularizer = l2(1e-4), border_mode='same'))\n",
    "    model.add(BatchNormalization())\n",
    "    model.add(LeakyReLU(alpha=0.15))\n",
    "    model.add(Dropout(0.3))\n",
    "\n",
    "    model.add(Flatten())\n",
    "    model.add(Dense(64, init = 'he_normal', W_regularizer = l2(1e-4)))\n",
    "    model.add(BatchNormalization())\n",
    "    model.add(LeakyReLU(alpha=0.15))\n",
    "    model.add(Dropout(0.3))\n",
    "    \n",
    "    model.add(Dense(32, init = 'he_normal', W_regularizer = l2(1e-4)))\n",
    "    model.add(BatchNormalization())\n",
    "    model.add(LeakyReLU(alpha=0.15))\n",
    "    model.add(Dropout(0.3))\n",
    "\n",
    "    model.add(Dense(CLASSES_NUM, init = 'he_normal', W_regularizer = l2(1e-4)))\n",
    "    model.add(Activation('linear'))\n",
    "    return model"
   ]
  },
  {
   "cell_type": "code",
   "execution_count": null,
   "metadata": {
    "collapsed": false,
    "scrolled": false
   },
   "outputs": [],
   "source": [
    "inzeption = build_model()\n",
    "inzeption.summary()"
   ]
  },
  {
   "cell_type": "code",
   "execution_count": null,
   "metadata": {
    "collapsed": false
   },
   "outputs": [],
   "source": [
    "adam = Adam(lr=LEARNING_RATE, decay=0.001)\n",
    "inzeption.compile(optimizer=adam, loss='mse', metrics=['accuracy'])\n",
    "try:\n",
    "    inzeption.fit(X.reshape(-1, 1,96, 96), y, batch_size=16, nb_epoch=100, validation_split= 0.1,verbose=1, shuffle=True)\n",
    "except KeyboardInterrupt:\n",
    "    pass"
   ]
  },
  {
   "cell_type": "code",
   "execution_count": null,
   "metadata": {
    "collapsed": false
   },
   "outputs": [],
   "source": [
    "inzeption.save('my_3nd_model.h5')"
   ]
  },
  {
   "cell_type": "code",
   "execution_count": null,
   "metadata": {
    "collapsed": false
   },
   "outputs": [],
   "source": [
    "X, _ = load(test=True)\n",
    "X=X.reshape((-1,96,96,1))\n",
    "y_pred = inzeption.predict(X)\n",
    "\n",
    "fig = plt.figure(figsize=(6, 6))\n",
    "fig.subplots_adjust(\n",
    "left=0, right=1, bottom=0, top=1, hspace=0.05, wspace=0.05)\n",
    "\n",
    "for i in range(16):\n",
    "    ax = fig.add_subplot(4, 4, i + 1, xticks=[], yticks=[])\n",
    "    plot_sample(X[i], y_pred[i], ax)\n",
    "\n",
    "plt.show()"
   ]
  },
  {
   "cell_type": "code",
   "execution_count": null,
   "metadata": {
    "collapsed": false
   },
   "outputs": [],
   "source": [
    "tst = load(test=True)[0].reshape(-1, 96, 96, 1)\n",
    "y_pred1 = inzeption.predict(tst)\n",
    "print y_pred1.shape, tst.shape\n",
    "make_submission(y_pred1)"
   ]
  },
  {
   "cell_type": "code",
   "execution_count": null,
   "metadata": {
    "collapsed": true
   },
   "outputs": [],
   "source": []
  }
 ],
 "metadata": {
  "anaconda-cloud": {},
  "kernelspec": {
   "display_name": "Python 2",
   "language": "python",
   "name": "python2"
  },
  "language_info": {
   "codemirror_mode": {
    "name": "ipython",
    "version": 2
   },
   "file_extension": ".py",
   "mimetype": "text/x-python",
   "name": "python",
   "nbconvert_exporter": "python",
   "pygments_lexer": "ipython2",
   "version": "2.7.12"
  }
 },
 "nbformat": 4,
 "nbformat_minor": 1
}
